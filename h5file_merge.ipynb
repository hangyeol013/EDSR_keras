{
 "cells": [
  {
   "cell_type": "code",
   "execution_count": 1,
   "metadata": {},
   "outputs": [],
   "source": [
    "import h5py as h5"
   ]
  },
  {
   "cell_type": "code",
   "execution_count": 2,
   "metadata": {},
   "outputs": [
    {
     "name": "stderr",
     "output_type": "stream",
     "text": [
      "/usr/lib/python3/dist-packages/ipykernel_launcher.py:1: H5pyDeprecationWarning: The default file mode will change to 'r' (read-only) in h5py 3.0. To suppress this warning, pass the mode you need to h5py.File(), or set the global default h5.get_config().default_file_mode, or set the environment variable H5PY_DEFAULT_READONLY=1. Available modes are: 'r', 'r+', 'w', 'w-'/'x', 'a'. See the docs for details.\n",
      "  \"\"\"Entry point for launching an IPython kernel.\n",
      "/usr/lib/python3/dist-packages/ipykernel_launcher.py:2: H5pyDeprecationWarning: The default file mode will change to 'r' (read-only) in h5py 3.0. To suppress this warning, pass the mode you need to h5py.File(), or set the global default h5.get_config().default_file_mode, or set the environment variable H5PY_DEFAULT_READONLY=1. Available modes are: 'r', 'r+', 'w', 'w-'/'x', 'a'. See the docs for details.\n",
      "  \n",
      "/usr/lib/python3/dist-packages/ipykernel_launcher.py:3: H5pyDeprecationWarning: The default file mode will change to 'r' (read-only) in h5py 3.0. To suppress this warning, pass the mode you need to h5py.File(), or set the global default h5.get_config().default_file_mode, or set the environment variable H5PY_DEFAULT_READONLY=1. Available modes are: 'r', 'r+', 'w', 'w-'/'x', 'a'. See the docs for details.\n",
      "  This is separate from the ipykernel package so we can avoid doing imports until\n",
      "/usr/lib/python3/dist-packages/ipykernel_launcher.py:5: H5pyDeprecationWarning: The default file mode will change to 'r' (read-only) in h5py 3.0. To suppress this warning, pass the mode you need to h5py.File(), or set the global default h5.get_config().default_file_mode, or set the environment variable H5PY_DEFAULT_READONLY=1. Available modes are: 'r', 'r+', 'w', 'w-'/'x', 'a'. See the docs for details.\n",
      "  \"\"\"\n"
     ]
    }
   ],
   "source": [
    "hf1 = h5.File('training_sample/train_DIV2Kaug_scale4.h5')\n",
    "hf2 = h5.File('training_sample/train_DIV2Kaug_scale4_3.h5')\n",
    "hf3 = h5.File('training_sample/train_DIV2Kaug_scale4_4.h5')\n",
    "\n",
    "hf = h5.File('training_sample/train_DIV2Kaug_scale4_merge.h5')"
   ]
  },
  {
   "cell_type": "code",
   "execution_count": 3,
   "metadata": {},
   "outputs": [
    {
     "name": "stdout",
     "output_type": "stream",
     "text": [
      "<HDF5 dataset \"data\": shape (19200, 3, 48, 48), type \"<f8\">\n",
      "<HDF5 dataset \"data\": shape (19200, 3, 48, 48), type \"<f8\">\n",
      "<HDF5 dataset \"data\": shape (12800, 3, 48, 48), type \"<f8\">\n"
     ]
    },
    {
     "data": {
      "text/plain": [
       "48"
      ]
     },
     "execution_count": 3,
     "metadata": {},
     "output_type": "execute_result"
    }
   ],
   "source": [
    "hf1_data = hf1['data']\n",
    "hf2_data = hf2['data']\n",
    "hf3_data = hf3['data']\n",
    "\n",
    "print(hf1_data)\n",
    "print(hf2_data)\n",
    "print(hf3_data)\n",
    "\n",
    "data_shape = hf1['data'].shape[2]\n",
    "data_shape"
   ]
  },
  {
   "cell_type": "code",
   "execution_count": 4,
   "metadata": {},
   "outputs": [
    {
     "name": "stdout",
     "output_type": "stream",
     "text": [
      "<HDF5 dataset \"label\": shape (19200, 3, 192, 192), type \"<f8\">\n",
      "<HDF5 dataset \"label\": shape (19200, 3, 192, 192), type \"<f8\">\n",
      "<HDF5 dataset \"label\": shape (12800, 3, 192, 192), type \"<f8\">\n",
      "192\n",
      "19200\n",
      "12800\n",
      "32000\n"
     ]
    }
   ],
   "source": [
    "hf1_label = hf1['label']\n",
    "hf2_label = hf2['label']\n",
    "hf3_label = hf3['label']\n",
    "\n",
    "print(hf1_label)\n",
    "print(hf2_label)\n",
    "print(hf3_label)\n",
    "\n",
    "label_shape = hf1['label'].shape[2]\n",
    "print(label_shape)\n",
    "\n",
    "#nums = hf1['label'].shape[0]\n",
    "#total_nums = nums * 2\n",
    "\n",
    "nums_1 = hf2['label'].shape[0]\n",
    "nums_2 = hf3['label'].shape[0]\n",
    "\n",
    "total_nums = nums_1 + nums_2\n",
    "\n",
    "\n",
    "print(nums_1)\n",
    "print(nums_2)\n",
    "print(total_nums)"
   ]
  },
  {
   "cell_type": "code",
   "execution_count": 5,
   "metadata": {},
   "outputs": [],
   "source": [
    "#del hf['data']\n",
    "#del hf['label']\n",
    "\n",
    "data = hf.create_dataset('data', (total_nums, 3, data_shape, data_shape), 'float64')\n",
    "label = hf.create_dataset('label', (total_nums, 3, label_shape, label_shape), 'float64')"
   ]
  },
  {
   "cell_type": "code",
   "execution_count": 6,
   "metadata": {},
   "outputs": [
    {
     "name": "stdout",
     "output_type": "stream",
     "text": [
      "<KeysViewHDF5 ['data', 'label']>\n"
     ]
    }
   ],
   "source": [
    "print(hf.keys())"
   ]
  },
  {
   "cell_type": "code",
   "execution_count": 7,
   "metadata": {},
   "outputs": [],
   "source": [
    "data[:nums_1, :, :, :] = hf2_data\n",
    "data[nums_1:nums_2, :, :, :] = hf3_data\n",
    "#data[nums*2:, :, :, :] = hf3_data\n",
    "\n",
    "label[:nums_1, :, :, :] = hf2_label\n",
    "label[nums_1:nums_2, :, :, :] = hf3_label\n",
    "#label[nums*2:, :, :, :] = hf3_label"
   ]
  },
  {
   "cell_type": "code",
   "execution_count": 8,
   "metadata": {},
   "outputs": [
    {
     "name": "stdout",
     "output_type": "stream",
     "text": [
      "<KeysViewHDF5 ['data', 'label']>\n"
     ]
    }
   ],
   "source": [
    "print(hf.keys())"
   ]
  },
  {
   "cell_type": "code",
   "execution_count": null,
   "metadata": {},
   "outputs": [],
   "source": []
  }
 ],
 "metadata": {
  "kernelspec": {
   "display_name": "Python 3",
   "language": "python",
   "name": "python3"
  },
  "language_info": {
   "codemirror_mode": {
    "name": "ipython",
    "version": 3
   },
   "file_extension": ".py",
   "mimetype": "text/x-python",
   "name": "python",
   "nbconvert_exporter": "python",
   "pygments_lexer": "ipython3",
   "version": "3.6.9"
  }
 },
 "nbformat": 4,
 "nbformat_minor": 2
}
